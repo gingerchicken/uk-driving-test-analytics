{
 "cells": [
  {
   "cell_type": "markdown",
   "metadata": {},
   "source": [
    "# Import\n",
    "Import the required tools for the model and analyitics"
   ]
  },
  {
   "cell_type": "code",
   "execution_count": 1,
   "metadata": {},
   "outputs": [],
   "source": [
    "import matplotlib.pyplot as plt\n",
    "import numpy as np\n",
    "import random"
   ]
  },
  {
   "cell_type": "markdown",
   "metadata": {},
   "source": [
    "# Setup Simulation\n",
    "Here I will create and configure the different components needed for the \"simulation,\" i.e. the random model."
   ]
  },
  {
   "cell_type": "code",
   "execution_count": 2,
   "metadata": {},
   "outputs": [],
   "source": [
    "class Candidate:\n",
    "    def __init__(self) -> None:\n",
    "        self.tries = 0\n",
    "        self.has_passed = False\n",
    "    \n",
    "    # Returns if the test was conducted\n",
    "    def do_test(self, pass_rate=0.4):\n",
    "        if self.has_passed:\n",
    "            return False\n",
    "        \n",
    "        # \"Do\" the test\n",
    "        self.tries += 1\n",
    "        self.has_passed = self.will_pass(pass_rate)\n",
    "        \n",
    "        return True\n",
    "    \n",
    "    # Returns a simple random number based on a pass rate\n",
    "    def will_pass(self, pass_rate=0.4):\n",
    "        return random.uniform(0, 1) <= pass_rate"
   ]
  },
  {
   "cell_type": "markdown",
   "metadata": {},
   "source": [
    "Some parameters for the simulation, feel free to change!"
   ]
  },
  {
   "cell_type": "code",
   "execution_count": 3,
   "metadata": {},
   "outputs": [],
   "source": [
    "TOTAL_CANDIDATES = 1000000"
   ]
  },
  {
   "cell_type": "code",
   "execution_count": 4,
   "metadata": {},
   "outputs": [],
   "source": [
    "PASS_RATE = 0.4"
   ]
  },
  {
   "cell_type": "markdown",
   "metadata": {},
   "source": [
    "Create all of the candidates in an object"
   ]
  },
  {
   "cell_type": "code",
   "execution_count": 5,
   "metadata": {},
   "outputs": [],
   "source": [
    "CANDIDATES = [Candidate() for i in range(0, TOTAL_CANDIDATES)]"
   ]
  },
  {
   "cell_type": "code",
   "execution_count": 6,
   "metadata": {},
   "outputs": [],
   "source": [
    "# Checks if everyone has passed their test\n",
    "def everyone_passed():\n",
    "    for cand in CANDIDATES:\n",
    "        if not cand.has_passed:\n",
    "            return False\n",
    "    \n",
    "    return True"
   ]
  },
  {
   "cell_type": "markdown",
   "metadata": {},
   "source": [
    "# Run the \"Simulation\"\n",
    "Run the simulation while not everyone (in the set) has passed their driving test."
   ]
  },
  {
   "cell_type": "code",
   "execution_count": 7,
   "metadata": {},
   "outputs": [],
   "source": [
    "while not everyone_passed():\n",
    "    # Loop over in all of the candidates\n",
    "    for cand in CANDIDATES:\n",
    "        # Take the \"driving test\"\n",
    "        cand.do_test(PASS_RATE)"
   ]
  },
  {
   "cell_type": "markdown",
   "metadata": {},
   "source": [
    "# Dataframe\n",
    "In this section, I will load the data calculated into different dataframes for later processing and visualisation"
   ]
  },
  {
   "cell_type": "code",
   "execution_count": 8,
   "metadata": {},
   "outputs": [],
   "source": [
    "import pandas as pd"
   ]
  },
  {
   "cell_type": "markdown",
   "metadata": {},
   "source": [
    "## Candidate Dataframe\n",
    "This just contains all of the results for the \"simulation\" just ran so that I can find the mean etc. of the data."
   ]
  },
  {
   "cell_type": "code",
   "execution_count": 9,
   "metadata": {},
   "outputs": [],
   "source": [
    "# Make the dataframe\n",
    "cand_df = pd.DataFrame.from_dict({\n",
    "    'tries': [c.tries for c in CANDIDATES]\n",
    "})"
   ]
  },
  {
   "cell_type": "code",
   "execution_count": 10,
   "metadata": {},
   "outputs": [
    {
     "data": {
      "text/plain": [
       "1     401130\n",
       "2     239179\n",
       "3     144402\n",
       "4      86268\n",
       "5      51686\n",
       "6      30882\n",
       "7      18626\n",
       "8      11051\n",
       "9       6674\n",
       "10      4090\n",
       "11      2377\n",
       "12      1437\n",
       "13       865\n",
       "14       518\n",
       "15       307\n",
       "16       202\n",
       "17       113\n",
       "18        71\n",
       "19        49\n",
       "20        34\n",
       "21        14\n",
       "22         9\n",
       "23         8\n",
       "24         5\n",
       "25         1\n",
       "27         1\n",
       "28         1\n",
       "Name: tries, dtype: int64"
      ]
     },
     "execution_count": 10,
     "metadata": {},
     "output_type": "execute_result"
    }
   ],
   "source": [
    "cand_df['tries'].value_counts()"
   ]
  },
  {
   "cell_type": "code",
   "execution_count": 11,
   "metadata": {},
   "outputs": [
    {
     "data": {
      "text/plain": [
       "count    1000000.000000\n",
       "mean           2.496655\n",
       "std            1.935892\n",
       "min            1.000000\n",
       "25%            1.000000\n",
       "50%            2.000000\n",
       "75%            3.000000\n",
       "max           28.000000\n",
       "Name: tries, dtype: float64"
      ]
     },
     "execution_count": 11,
     "metadata": {},
     "output_type": "execute_result"
    }
   ],
   "source": [
    "cand_df['tries'].describe()"
   ]
  },
  {
   "cell_type": "markdown",
   "metadata": {},
   "source": [
    "As you can see, the **mean** amount of times taken before someone passes their test is about **2.5** times!"
   ]
  },
  {
   "cell_type": "markdown",
   "metadata": {},
   "source": [
    "## Frequency Dataframe\n",
    "This is just a dataframe used to store the frequency and total of each of the total tries."
   ]
  },
  {
   "cell_type": "code",
   "execution_count": 12,
   "metadata": {},
   "outputs": [],
   "source": [
    "f_df = pd.DataFrame.from_dict({\n",
    "    'tries': [i for i in range(1, len(cand_df['tries'].value_counts()) + 1)],\n",
    "    'total': [i for i in cand_df['tries'].value_counts()],\n",
    "}).set_index('tries')"
   ]
  },
  {
   "cell_type": "code",
   "execution_count": 13,
   "metadata": {},
   "outputs": [],
   "source": [
    "f_df['frequency'] = [i/f_df['total'].sum() for i in f_df['total'].values]"
   ]
  },
  {
   "cell_type": "code",
   "execution_count": 14,
   "metadata": {},
   "outputs": [],
   "source": [
    "f_df = f_df.sort_index()"
   ]
  },
  {
   "cell_type": "code",
   "execution_count": 15,
   "metadata": {},
   "outputs": [
    {
     "data": {
      "text/html": [
       "<div>\n",
       "<style scoped>\n",
       "    .dataframe tbody tr th:only-of-type {\n",
       "        vertical-align: middle;\n",
       "    }\n",
       "\n",
       "    .dataframe tbody tr th {\n",
       "        vertical-align: top;\n",
       "    }\n",
       "\n",
       "    .dataframe thead th {\n",
       "        text-align: right;\n",
       "    }\n",
       "</style>\n",
       "<table border=\"1\" class=\"dataframe\">\n",
       "  <thead>\n",
       "    <tr style=\"text-align: right;\">\n",
       "      <th></th>\n",
       "      <th>total</th>\n",
       "      <th>frequency</th>\n",
       "    </tr>\n",
       "    <tr>\n",
       "      <th>tries</th>\n",
       "      <th></th>\n",
       "      <th></th>\n",
       "    </tr>\n",
       "  </thead>\n",
       "  <tbody>\n",
       "    <tr>\n",
       "      <th>1</th>\n",
       "      <td>401130</td>\n",
       "      <td>0.401130</td>\n",
       "    </tr>\n",
       "    <tr>\n",
       "      <th>2</th>\n",
       "      <td>239179</td>\n",
       "      <td>0.239179</td>\n",
       "    </tr>\n",
       "    <tr>\n",
       "      <th>3</th>\n",
       "      <td>144402</td>\n",
       "      <td>0.144402</td>\n",
       "    </tr>\n",
       "    <tr>\n",
       "      <th>4</th>\n",
       "      <td>86268</td>\n",
       "      <td>0.086268</td>\n",
       "    </tr>\n",
       "    <tr>\n",
       "      <th>5</th>\n",
       "      <td>51686</td>\n",
       "      <td>0.051686</td>\n",
       "    </tr>\n",
       "    <tr>\n",
       "      <th>6</th>\n",
       "      <td>30882</td>\n",
       "      <td>0.030882</td>\n",
       "    </tr>\n",
       "    <tr>\n",
       "      <th>7</th>\n",
       "      <td>18626</td>\n",
       "      <td>0.018626</td>\n",
       "    </tr>\n",
       "    <tr>\n",
       "      <th>8</th>\n",
       "      <td>11051</td>\n",
       "      <td>0.011051</td>\n",
       "    </tr>\n",
       "    <tr>\n",
       "      <th>9</th>\n",
       "      <td>6674</td>\n",
       "      <td>0.006674</td>\n",
       "    </tr>\n",
       "    <tr>\n",
       "      <th>10</th>\n",
       "      <td>4090</td>\n",
       "      <td>0.004090</td>\n",
       "    </tr>\n",
       "    <tr>\n",
       "      <th>11</th>\n",
       "      <td>2377</td>\n",
       "      <td>0.002377</td>\n",
       "    </tr>\n",
       "    <tr>\n",
       "      <th>12</th>\n",
       "      <td>1437</td>\n",
       "      <td>0.001437</td>\n",
       "    </tr>\n",
       "    <tr>\n",
       "      <th>13</th>\n",
       "      <td>865</td>\n",
       "      <td>0.000865</td>\n",
       "    </tr>\n",
       "    <tr>\n",
       "      <th>14</th>\n",
       "      <td>518</td>\n",
       "      <td>0.000518</td>\n",
       "    </tr>\n",
       "    <tr>\n",
       "      <th>15</th>\n",
       "      <td>307</td>\n",
       "      <td>0.000307</td>\n",
       "    </tr>\n",
       "    <tr>\n",
       "      <th>16</th>\n",
       "      <td>202</td>\n",
       "      <td>0.000202</td>\n",
       "    </tr>\n",
       "    <tr>\n",
       "      <th>17</th>\n",
       "      <td>113</td>\n",
       "      <td>0.000113</td>\n",
       "    </tr>\n",
       "    <tr>\n",
       "      <th>18</th>\n",
       "      <td>71</td>\n",
       "      <td>0.000071</td>\n",
       "    </tr>\n",
       "    <tr>\n",
       "      <th>19</th>\n",
       "      <td>49</td>\n",
       "      <td>0.000049</td>\n",
       "    </tr>\n",
       "    <tr>\n",
       "      <th>20</th>\n",
       "      <td>34</td>\n",
       "      <td>0.000034</td>\n",
       "    </tr>\n",
       "    <tr>\n",
       "      <th>21</th>\n",
       "      <td>14</td>\n",
       "      <td>0.000014</td>\n",
       "    </tr>\n",
       "    <tr>\n",
       "      <th>22</th>\n",
       "      <td>9</td>\n",
       "      <td>0.000009</td>\n",
       "    </tr>\n",
       "    <tr>\n",
       "      <th>23</th>\n",
       "      <td>8</td>\n",
       "      <td>0.000008</td>\n",
       "    </tr>\n",
       "    <tr>\n",
       "      <th>24</th>\n",
       "      <td>5</td>\n",
       "      <td>0.000005</td>\n",
       "    </tr>\n",
       "    <tr>\n",
       "      <th>25</th>\n",
       "      <td>1</td>\n",
       "      <td>0.000001</td>\n",
       "    </tr>\n",
       "    <tr>\n",
       "      <th>26</th>\n",
       "      <td>1</td>\n",
       "      <td>0.000001</td>\n",
       "    </tr>\n",
       "    <tr>\n",
       "      <th>27</th>\n",
       "      <td>1</td>\n",
       "      <td>0.000001</td>\n",
       "    </tr>\n",
       "  </tbody>\n",
       "</table>\n",
       "</div>"
      ],
      "text/plain": [
       "        total  frequency\n",
       "tries                   \n",
       "1      401130   0.401130\n",
       "2      239179   0.239179\n",
       "3      144402   0.144402\n",
       "4       86268   0.086268\n",
       "5       51686   0.051686\n",
       "6       30882   0.030882\n",
       "7       18626   0.018626\n",
       "8       11051   0.011051\n",
       "9        6674   0.006674\n",
       "10       4090   0.004090\n",
       "11       2377   0.002377\n",
       "12       1437   0.001437\n",
       "13        865   0.000865\n",
       "14        518   0.000518\n",
       "15        307   0.000307\n",
       "16        202   0.000202\n",
       "17        113   0.000113\n",
       "18         71   0.000071\n",
       "19         49   0.000049\n",
       "20         34   0.000034\n",
       "21         14   0.000014\n",
       "22          9   0.000009\n",
       "23          8   0.000008\n",
       "24          5   0.000005\n",
       "25          1   0.000001\n",
       "26          1   0.000001\n",
       "27          1   0.000001"
      ]
     },
     "execution_count": 15,
     "metadata": {},
     "output_type": "execute_result"
    }
   ],
   "source": [
    "f_df"
   ]
  },
  {
   "cell_type": "markdown",
   "metadata": {},
   "source": [
    "# Plots\n",
    "I will now plot the data that we have just generated!"
   ]
  },
  {
   "cell_type": "code",
   "execution_count": 16,
   "metadata": {},
   "outputs": [
    {
     "data": {
      "image/png": "[encoded data removed]",
      "text/plain": [
       "<Figure size 432x288 with 1 Axes>"
      ]
     },
     "metadata": {
      "needs_background": "light"
     },
     "output_type": "display_data"
    }
   ],
   "source": [
    "f_df['frequency'].plot()\n",
    "plt.xlabel('Tries')\n",
    "plt.ylabel('Frequency')\n",
    "plt.title('Tries vs Frequency')\n",
    "\n",
    "plt.show()"
   ]
  },
  {
   "cell_type": "markdown",
   "metadata": {},
   "source": [
    "# Modelling\n",
    "THe curve above appears to be a simple curve of `y = p^x`, where `y` is the frequency, `p` is the pass rate, and `x` is the amount of tests taken, the plot below shows this example."
   ]
  },
  {
   "cell_type": "code",
   "execution_count": 18,
   "metadata": {},
   "outputs": [
    {
     "data": {
      "image/png": "[encoded data removed]",
      "text/plain": [
       "<Figure size 432x288 with 1 Axes>"
      ]
     },
     "metadata": {
      "needs_background": "light"
     },
     "output_type": "display_data"
    }
   ],
   "source": [
    "MAX_WIDTH = round(len(f_df) / 2)\n",
    "\n",
    "# y = p^x\n",
    "def model(x):\n",
    "    return PASS_RATE**x # PASS_RATE ^ x\n",
    "\n",
    "x = np.linspace(1, MAX_WIDTH, 10*MAX_WIDTH)\n",
    "y = [model(i) for i in x]\n",
    "\n",
    "# Plot them\n",
    "plt.plot(x, y, 'r')\n",
    "f_df['frequency'].iloc[0:MAX_WIDTH].plot()\n",
    "\n",
    "# Legend\n",
    "plt.legend(['Model', 'Actual Data'])\n",
    "\n",
    "# Label Axies\n",
    "plt.xlabel('Tries')\n",
    "plt.ylabel('Frequency')\n",
    "plt.title('Tries vs Frequency')\n",
    "\n",
    "plt.show()"
   ]
  },
  {
   "cell_type": "markdown",
   "metadata": {},
   "source": [
    "As you can see, my model is slightly off but it still resembles the overall shape of the curve."
   ]
  }
 ],
 "metadata": {
  "kernelspec": {
   "display_name": "Python 3 (ipykernel)",
   "language": "python",
   "name": "python3"
  },
  "language_info": {
   "codemirror_mode": {
    "name": "ipython",
    "version": 3
   },
   "file_extension": ".py",
   "mimetype": "text/x-python",
   "name": "python",
   "nbconvert_exporter": "python",
   "pygments_lexer": "ipython3",
   "version": "3.9.7"
  }
 },
 "nbformat": 4,
 "nbformat_minor": 2
}
